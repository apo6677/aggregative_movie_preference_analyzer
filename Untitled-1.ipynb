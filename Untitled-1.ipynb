{
 "cells": [
  {
   "cell_type": "code",
   "execution_count": null,
   "metadata": {},
   "outputs": [
    {
     "ename": "UnicodeEncodeError",
     "evalue": "'charmap' codec can't encode character '\\xe9' in position 31: character maps to <undefined>",
     "output_type": "error",
     "traceback": [
      "\u001b[1;31m---------------------------------------------------------------------------\u001b[0m",
      "\u001b[1;31mUnicodeEncodeError\u001b[0m                        Traceback (most recent call last)",
      "Cell \u001b[1;32mIn[9], line 35\u001b[0m\n\u001b[0;32m     33\u001b[0m \u001b[38;5;28;01mwith\u001b[39;00m \u001b[38;5;28mopen\u001b[39m(\u001b[38;5;124m\"\u001b[39m\u001b[38;5;124mfirst_user_search_of_ratings.txt\u001b[39m\u001b[38;5;124m\"\u001b[39m, \u001b[38;5;124m\"\u001b[39m\u001b[38;5;124mw\u001b[39m\u001b[38;5;124m\"\u001b[39m) \u001b[38;5;28;01mas\u001b[39;00m searched_ratings:\n\u001b[0;32m     34\u001b[0m     \u001b[38;5;28;01mfor\u001b[39;00m line \u001b[38;5;129;01min\u001b[39;00m filtered_ratings\u001b[38;5;241m.\u001b[39mkeys():\n\u001b[1;32m---> 35\u001b[0m         \u001b[43msearched_ratings\u001b[49m\u001b[38;5;241;43m.\u001b[39;49m\u001b[43mwrite\u001b[49m\u001b[43m(\u001b[49m\u001b[43mline\u001b[49m\u001b[43m \u001b[49m\u001b[38;5;241;43m+\u001b[39;49m\u001b[38;5;28;43mstr\u001b[39;49m\u001b[43m(\u001b[49m\u001b[43mfiltered_ratings\u001b[49m\u001b[43m[\u001b[49m\u001b[43mTitle\u001b[49m\u001b[43m]\u001b[49m\u001b[43m)\u001b[49m\u001b[38;5;241;43m+\u001b[39;49m\u001b[43m \u001b[49m\u001b[38;5;124;43m'\u001b[39;49m\u001b[38;5;130;43;01m\\n\u001b[39;49;00m\u001b[38;5;124;43m'\u001b[39;49m\u001b[43m)\u001b[49m\n",
      "File \u001b[1;32mC:\\Program Files\\WindowsApps\\PythonSoftwareFoundation.Python.3.8_3.8.2800.0_x64__qbz5n2kfra8p0\\lib\\encodings\\cp1253.py:19\u001b[0m, in \u001b[0;36mIncrementalEncoder.encode\u001b[1;34m(self, input, final)\u001b[0m\n\u001b[0;32m     18\u001b[0m \u001b[38;5;28;01mdef\u001b[39;00m \u001b[38;5;21mencode\u001b[39m(\u001b[38;5;28mself\u001b[39m, \u001b[38;5;28minput\u001b[39m, final\u001b[38;5;241m=\u001b[39m\u001b[38;5;28;01mFalse\u001b[39;00m):\n\u001b[1;32m---> 19\u001b[0m     \u001b[38;5;28;01mreturn\u001b[39;00m \u001b[43mcodecs\u001b[49m\u001b[38;5;241;43m.\u001b[39;49m\u001b[43mcharmap_encode\u001b[49m\u001b[43m(\u001b[49m\u001b[38;5;28;43minput\u001b[39;49m\u001b[43m,\u001b[49m\u001b[38;5;28;43mself\u001b[39;49m\u001b[38;5;241;43m.\u001b[39;49m\u001b[43merrors\u001b[49m\u001b[43m,\u001b[49m\u001b[43mencoding_table\u001b[49m\u001b[43m)\u001b[49m[\u001b[38;5;241m0\u001b[39m]\n",
      "\u001b[1;31mUnicodeEncodeError\u001b[0m: 'charmap' codec can't encode character '\\xe9' in position 31: character maps to <undefined>"
     ]
    }
   ],
   "source": [
    "filtered_ratings = dict()\n",
    "average_ratings = dict()\n",
    "movies = dict()\n",
    "\n",
    "with open(\"movies.dat\",\"r\", encoding=\"utf-8\") as Mov:\n",
    "    for line in Mov:\n",
    "        data = line.strip().split('::')\n",
    "\n",
    "        MovieID = data[0]\n",
    "        Title = data[1]\n",
    "        \n",
    "        movies[MovieID] = Title\n",
    "\n",
    "with open(\"ratings.dat\",\"r\") as ratings:\n",
    "    for line in ratings:\n",
    "        data = line.strip().split('::')\n",
    "\n",
    "        MovieID = data[1]\n",
    "        Rating = float(data[2])\n",
    "        \n",
    "        if MovieID in average_ratings:\n",
    "            average_ratings[MovieID]['Total_Rating'] +=Rating\n",
    "            average_ratings[MovieID]['Count'] += 1\n",
    "        else:\n",
    "            average_ratings[MovieID] = {'Total_Rating': Rating, 'Count': 1}\n",
    "\n",
    "for MovieID in movies:\n",
    "    if MovieID in average_ratings.keys():\n",
    "        Title = movies[MovieID]\n",
    "        average_rating = average_ratings[MovieID]['Total_Rating']/average_ratings[MovieID]['Count']\n",
    "        filtered_ratings[Title] = average_rating\n",
    "\n",
    "with open(\"first_user_search_of_ratings.txt\", \"w\") as searched_ratings:\n",
    "    for Title in filtered_ratings.keys():\n",
    "        searched_ratings.write(Title +str(filtered_ratings[Title])+ '\\n')"
   ]
  }
 ],
 "metadata": {
  "kernelspec": {
   "display_name": "Python 3",
   "language": "python",
   "name": "python3"
  },
  "language_info": {
   "codemirror_mode": {
    "name": "ipython",
    "version": 3
   },
   "file_extension": ".py",
   "mimetype": "text/x-python",
   "name": "python",
   "nbconvert_exporter": "python",
   "pygments_lexer": "ipython3",
   "version": "3.8.10"
  }
 },
 "nbformat": 4,
 "nbformat_minor": 2
}
